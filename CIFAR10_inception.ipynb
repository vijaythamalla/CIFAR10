{
  "nbformat": 4,
  "nbformat_minor": 0,
  "metadata": {
    "colab": {
      "name": "CIFAR10.ipynb",
      "provenance": [],
      "authorship_tag": "ABX9TyPbFbonAbizhoJLMkLoek7r",
      "include_colab_link": true
    },
    "kernelspec": {
      "name": "python3",
      "display_name": "Python 3"
    },
    "accelerator": "GPU"
  },
  "cells": [
    {
      "cell_type": "markdown",
      "metadata": {
        "id": "view-in-github",
        "colab_type": "text"
      },
      "source": [
        "<a href=\"https://colab.research.google.com/github/vijaythamalla/CIFAR10/blob/master/CIFAR10_inception.ipynb\" target=\"_parent\"><img src=\"https://colab.research.google.com/assets/colab-badge.svg\" alt=\"Open In Colab\"/></a>"
      ]
    },
    {
      "cell_type": "code",
      "metadata": {
        "id": "5LAJ-NKUeEc3",
        "colab_type": "code",
        "colab": {}
      },
      "source": [
        "import os,datetime\n",
        "import numpy as np\n",
        "import pandas as pd\n",
        "import tensorflow as tf\n",
        "from tensorflow import keras\n",
        "from tensorflow.keras.datasets import cifar10\n",
        "from tensorflow.keras.layers import Dense,Flatten,BatchNormalization\n",
        "from tensorflow.keras.layers import Dropout,Conv2D,MaxPool2D\n",
        "from tensorflow.keras.layers import LeakyReLU,Input,Activation\n",
        "from tensorflow.keras.optimizers import SGD,Adam,Nadam\n",
        "from tensorflow.keras.models import Sequential\n",
        "import matplotlib.pyplot as plt"
      ],
      "execution_count": 16,
      "outputs": []
    },
    {
      "cell_type": "code",
      "metadata": {
        "id": "MCPQvq4xeQug",
        "colab_type": "code",
        "colab": {
          "base_uri": "https://localhost:8080/",
          "height": 51
        },
        "outputId": "863ac685-aeaf-4795-d249-0622409adb2c"
      },
      "source": [
        "(X_train,y_train),(X_test,y_test) = cifar10.load_data()"
      ],
      "execution_count": 2,
      "outputs": [
        {
          "output_type": "stream",
          "text": [
            "Downloading data from https://www.cs.toronto.edu/~kriz/cifar-10-python.tar.gz\n",
            "170500096/170498071 [==============================] - 4s 0us/step\n"
          ],
          "name": "stdout"
        }
      ]
    },
    {
      "cell_type": "code",
      "metadata": {
        "id": "F92jwINceYEe",
        "colab_type": "code",
        "colab": {
          "base_uri": "https://localhost:8080/",
          "height": 34
        },
        "outputId": "6c766564-4709-47b5-a771-e2555c8c8781"
      },
      "source": [
        "X_train.shape"
      ],
      "execution_count": 3,
      "outputs": [
        {
          "output_type": "execute_result",
          "data": {
            "text/plain": [
              "(50000, 32, 32, 3)"
            ]
          },
          "metadata": {
            "tags": []
          },
          "execution_count": 3
        }
      ]
    },
    {
      "cell_type": "code",
      "metadata": {
        "id": "AjOsEsOVeda1",
        "colab_type": "code",
        "colab": {
          "base_uri": "https://localhost:8080/",
          "height": 34
        },
        "outputId": "58883f84-81cc-488d-aa0f-28f2a60800dc"
      },
      "source": [
        "y_train.shape"
      ],
      "execution_count": 4,
      "outputs": [
        {
          "output_type": "execute_result",
          "data": {
            "text/plain": [
              "(50000, 1)"
            ]
          },
          "metadata": {
            "tags": []
          },
          "execution_count": 4
        }
      ]
    },
    {
      "cell_type": "code",
      "metadata": {
        "id": "c8w6QTAceeOS",
        "colab_type": "code",
        "colab": {
          "base_uri": "https://localhost:8080/",
          "height": 283
        },
        "outputId": "b282ed66-deac-4670-ec8a-a9ec1619fc0a"
      },
      "source": [
        "plt.imshow(X_train[0])"
      ],
      "execution_count": 5,
      "outputs": [
        {
          "output_type": "execute_result",
          "data": {
            "text/plain": [
              "<matplotlib.image.AxesImage at 0x7ff46d10cdd8>"
            ]
          },
          "metadata": {
            "tags": []
          },
          "execution_count": 5
        },
        {
          "output_type": "display_data",
          "data": {
            "image/png": "[encoded data removed]",
            "text/plain": [
              "<Figure size 432x288 with 1 Axes>"
            ]
          },
          "metadata": {
            "tags": [],
            "needs_background": "light"
          }
        }
      ]
    },
    {
      "cell_type": "code",
      "metadata": {
        "id": "zhLNrH8feiv7",
        "colab_type": "code",
        "colab": {
          "base_uri": "https://localhost:8080/",
          "height": 34
        },
        "outputId": "066eb5cf-bf16-47bf-8e0a-20928f9e604e"
      },
      "source": [
        "y_train[0]"
      ],
      "execution_count": 6,
      "outputs": [
        {
          "output_type": "execute_result",
          "data": {
            "text/plain": [
              "array([6], dtype=uint8)"
            ]
          },
          "metadata": {
            "tags": []
          },
          "execution_count": 6
        }
      ]
    },
    {
      "cell_type": "code",
      "metadata": {
        "id": "8HSAUWkXeo7j",
        "colab_type": "code",
        "colab": {}
      },
      "source": [
        "classes = ['airplane','automobile','bird','cat','deer','dog','frog','horse','ship','truck']"
      ],
      "execution_count": 7,
      "outputs": []
    },
    {
      "cell_type": "code",
      "metadata": {
        "id": "J-Fl0AX3fV7p",
        "colab_type": "code",
        "colab": {
          "base_uri": "https://localhost:8080/",
          "height": 35
        },
        "outputId": "584d8a34-ce3f-447b-cd32-bf422f882005"
      },
      "source": [
        "classes[int(y_train[0])]"
      ],
      "execution_count": 8,
      "outputs": [
        {
          "output_type": "execute_result",
          "data": {
            "application/vnd.google.colaboratory.intrinsic+json": {
              "type": "string"
            },
            "text/plain": [
              "'frog'"
            ]
          },
          "metadata": {
            "tags": []
          },
          "execution_count": 8
        }
      ]
    },
    {
      "cell_type": "code",
      "metadata": {
        "id": "OMiMreD1fsdo",
        "colab_type": "code",
        "colab": {}
      },
      "source": [
        "X_train = X_train/255.0\n",
        "X_test = X_test/255.0"
      ],
      "execution_count": 9,
      "outputs": []
    },
    {
      "cell_type": "code",
      "metadata": {
        "id": "6cYiRUq_f6wQ",
        "colab_type": "code",
        "colab": {}
      },
      "source": [
        "logs_base_dir = \"./logs\"\n",
        "log_dir = os.path.join(logs_base_dir, datetime.datetime.now().strftime(\"%Y%m%d-%H%M%S\"))\n",
        "filepath= os.path.join(logs_base_dir,'model.{epoch:02d}-{val_loss:.2f}.h5')\n",
        "\n",
        "os.makedirs(logs_base_dir, exist_ok=True)\n",
        "\n",
        "callbacks = [\n",
        "    tf.keras.callbacks.EarlyStopping(patience=10,restore_best_weights=True),\n",
        "    tf.keras.callbacks.ModelCheckpoint(filepath),\n",
        "    tf.keras.callbacks.TensorBoard(log_dir),\n",
        "    #tf.keras.callbacks.ReduceLROnPlateau()\n",
        "]"
      ],
      "execution_count": 22,
      "outputs": []
    },
    {
      "cell_type": "code",
      "metadata": {
        "id": "LRVoCaevlMko",
        "colab_type": "code",
        "colab": {}
      },
      "source": [
        "def inception(layer_in,f1,f3_in,f3_out,f5_in,f5_out,fp):\n",
        "    # 1x1 conv layer\n",
        "    conv1 = Conv2D(f1,1,1,padding='same')(layer_in)\n",
        "    conv1 = LeakyReLU(0.2)(conv1)\n",
        "    conv1 = Dropout(0.2)(conv1)\n",
        "    # 3x3 conv layer\n",
        "    conv3 = Conv2D(f3_in,1,1,padding='same')(layer_in)\n",
        "    conv3 = LeakyReLU(0.2)(conv3)\n",
        "    conv3 = Conv2D(f3_out,3,1,padding='same')(conv3)\n",
        "    conv3 = LeakyReLU(0.2)(conv3)\n",
        "    conv3 = Dropout(0.2)(conv3)\n",
        "    # 5x5 conv layer\n",
        "    conv5 = Conv2D(f5_in,1,1,padding='same')(layer_in)\n",
        "    conv5 = LeakyReLU(0.2)(conv5)\n",
        "    conv5 = Conv2D(f5_out,5,1,padding='same')(conv5)\n",
        "    conv5 = LeakyReLU(0.2)(conv5)\n",
        "    conv5 = Dropout(0.2)(conv5)\n",
        "    # MaxPooling layer\n",
        "    pool = MaxPool2D(3,1,padding='same')(layer_in)\n",
        "    pool = Conv2D(fp,1,1,padding='same')(pool)\n",
        "    pool = LeakyReLU(0.2)(pool)\n",
        "\n",
        "    output = keras.layers.concatenate([conv1,conv3,conv5,pool])\n",
        "    return output"
      ],
      "execution_count": 23,
      "outputs": []
    },
    {
      "cell_type": "code",
      "metadata": {
        "id": "mqGZV1FWlNm6",
        "colab_type": "code",
        "colab": {
          "base_uri": "https://localhost:8080/",
          "height": 1000
        },
        "outputId": "9ffd21d3-1f89-404f-b315-2f7c2b752ce9"
      },
      "source": [
        "keras.backend.clear_session()\n",
        "tf.random.set_seed(42)\n",
        "\n",
        "inputs = Input(shape=(X_train.shape[1:]))\n",
        "\n",
        "conv_m1 = Conv2D(32,kernel_size=3,padding='same')(inputs)\n",
        "pool_m1 = MaxPool2D(2)(conv_m1)\n",
        "\n",
        "layer_1 = inception(pool_m1,32,32,64,32,32,32)\n",
        "conv_m2 = Conv2D(64,kernel_size=3,padding='same')(layer_1)\n",
        "bn_m1 = BatchNormalization()(conv_m2)\n",
        "act_m1 = LeakyReLU(0.2)(bn_m1)\n",
        "drop_m1 = Dropout(0.2)(act_m1)\n",
        "pool_m2 = MaxPool2D(2)(act_m1)\n",
        "\n",
        "layer_2 = inception(pool_m2,32,32,64,32,32,32)\n",
        "conv_m3 = Conv2D(128,3,1,padding='same',activation='relu')(layer_2)\n",
        "bn_m2 = BatchNormalization()(conv_m3)\n",
        "act_m2 = LeakyReLU(0.2)(bn_m2)\n",
        "drop_m2 = Dropout(0.5)(act_m2)\n",
        "\n",
        "#pool_2 = MaxPool2D(2)(layer_2)\n",
        "flat = Flatten()(drop_m2)\n",
        "#hidden = Dense(128,activation='relu')(flat)\n",
        "output = Dense(10,activation='sigmoid')(flat)\n",
        "\n",
        "model = keras.Model(inputs=inputs,outputs=output)\n",
        "\n",
        "model.summary()\n",
        "\n",
        "optimizers = Adam()\n",
        "\n",
        "model.compile(optimizer=optimizers,loss='sparse_categorical_crossentropy',metrics=['accuracy'])\n",
        "\n",
        "history = model.fit(X_train,y_train,batch_size=32,epochs=100,validation_split=0.2,callbacks=callbacks)\n",
        "\n",
        "model.evaluate(X_test,y_test)"
      ],
      "execution_count": 25,
      "outputs": [
        {
          "output_type": "stream",
          "text": [
            "Model: \"functional_1\"\n",
            "__________________________________________________________________________________________________\n",
            "Layer (type)                    Output Shape         Param #     Connected to                     \n",
            "==================================================================================================\n",
            "input_1 (InputLayer)            [(None, 32, 32, 3)]  0                                            \n",
            "__________________________________________________________________________________________________\n",
            "conv2d (Conv2D)                 (None, 32, 32, 32)   896         input_1[0][0]                    \n",
            "__________________________________________________________________________________________________\n",
            "max_pooling2d (MaxPooling2D)    (None, 16, 16, 32)   0           conv2d[0][0]                     \n",
            "__________________________________________________________________________________________________\n",
            "conv2d_2 (Conv2D)               (None, 16, 16, 32)   1056        max_pooling2d[0][0]              \n",
            "__________________________________________________________________________________________________\n",
            "conv2d_4 (Conv2D)               (None, 16, 16, 32)   1056        max_pooling2d[0][0]              \n",
            "__________________________________________________________________________________________________\n",
            "leaky_re_lu_1 (LeakyReLU)       (None, 16, 16, 32)   0           conv2d_2[0][0]                   \n",
            "__________________________________________________________________________________________________\n",
            "leaky_re_lu_3 (LeakyReLU)       (None, 16, 16, 32)   0           conv2d_4[0][0]                   \n",
            "__________________________________________________________________________________________________\n",
            "conv2d_1 (Conv2D)               (None, 16, 16, 32)   1056        max_pooling2d[0][0]              \n",
            "__________________________________________________________________________________________________\n",
            "conv2d_3 (Conv2D)               (None, 16, 16, 64)   18496       leaky_re_lu_1[0][0]              \n",
            "__________________________________________________________________________________________________\n",
            "conv2d_5 (Conv2D)               (None, 16, 16, 32)   25632       leaky_re_lu_3[0][0]              \n",
            "__________________________________________________________________________________________________\n",
            "max_pooling2d_1 (MaxPooling2D)  (None, 16, 16, 32)   0           max_pooling2d[0][0]              \n",
            "__________________________________________________________________________________________________\n",
            "leaky_re_lu (LeakyReLU)         (None, 16, 16, 32)   0           conv2d_1[0][0]                   \n",
            "__________________________________________________________________________________________________\n",
            "leaky_re_lu_2 (LeakyReLU)       (None, 16, 16, 64)   0           conv2d_3[0][0]                   \n",
            "__________________________________________________________________________________________________\n",
            "leaky_re_lu_4 (LeakyReLU)       (None, 16, 16, 32)   0           conv2d_5[0][0]                   \n",
            "__________________________________________________________________________________________________\n",
            "conv2d_6 (Conv2D)               (None, 16, 16, 32)   1056        max_pooling2d_1[0][0]            \n",
            "__________________________________________________________________________________________________\n",
            "dropout (Dropout)               (None, 16, 16, 32)   0           leaky_re_lu[0][0]                \n",
            "__________________________________________________________________________________________________\n",
            "dropout_1 (Dropout)             (None, 16, 16, 64)   0           leaky_re_lu_2[0][0]              \n",
            "__________________________________________________________________________________________________\n",
            "dropout_2 (Dropout)             (None, 16, 16, 32)   0           leaky_re_lu_4[0][0]              \n",
            "__________________________________________________________________________________________________\n",
            "leaky_re_lu_5 (LeakyReLU)       (None, 16, 16, 32)   0           conv2d_6[0][0]                   \n",
            "__________________________________________________________________________________________________\n",
            "concatenate (Concatenate)       (None, 16, 16, 160)  0           dropout[0][0]                    \n",
            "                                                                 dropout_1[0][0]                  \n",
            "                                                                 dropout_2[0][0]                  \n",
            "                                                                 leaky_re_lu_5[0][0]              \n",
            "__________________________________________________________________________________________________\n",
            "conv2d_7 (Conv2D)               (None, 16, 16, 64)   92224       concatenate[0][0]                \n",
            "__________________________________________________________________________________________________\n",
            "batch_normalization (BatchNorma (None, 16, 16, 64)   256         conv2d_7[0][0]                   \n",
            "__________________________________________________________________________________________________\n",
            "leaky_re_lu_6 (LeakyReLU)       (None, 16, 16, 64)   0           batch_normalization[0][0]        \n",
            "__________________________________________________________________________________________________\n",
            "max_pooling2d_2 (MaxPooling2D)  (None, 8, 8, 64)     0           leaky_re_lu_6[0][0]              \n",
            "__________________________________________________________________________________________________\n",
            "conv2d_9 (Conv2D)               (None, 8, 8, 32)     2080        max_pooling2d_2[0][0]            \n",
            "__________________________________________________________________________________________________\n",
            "conv2d_11 (Conv2D)              (None, 8, 8, 32)     2080        max_pooling2d_2[0][0]            \n",
            "__________________________________________________________________________________________________\n",
            "leaky_re_lu_8 (LeakyReLU)       (None, 8, 8, 32)     0           conv2d_9[0][0]                   \n",
            "__________________________________________________________________________________________________\n",
            "leaky_re_lu_10 (LeakyReLU)      (None, 8, 8, 32)     0           conv2d_11[0][0]                  \n",
            "__________________________________________________________________________________________________\n",
            "conv2d_8 (Conv2D)               (None, 8, 8, 32)     2080        max_pooling2d_2[0][0]            \n",
            "__________________________________________________________________________________________________\n",
            "conv2d_10 (Conv2D)              (None, 8, 8, 64)     18496       leaky_re_lu_8[0][0]              \n",
            "__________________________________________________________________________________________________\n",
            "conv2d_12 (Conv2D)              (None, 8, 8, 32)     25632       leaky_re_lu_10[0][0]             \n",
            "__________________________________________________________________________________________________\n",
            "max_pooling2d_3 (MaxPooling2D)  (None, 8, 8, 64)     0           max_pooling2d_2[0][0]            \n",
            "__________________________________________________________________________________________________\n",
            "leaky_re_lu_7 (LeakyReLU)       (None, 8, 8, 32)     0           conv2d_8[0][0]                   \n",
            "__________________________________________________________________________________________________\n",
            "leaky_re_lu_9 (LeakyReLU)       (None, 8, 8, 64)     0           conv2d_10[0][0]                  \n",
            "__________________________________________________________________________________________________\n",
            "leaky_re_lu_11 (LeakyReLU)      (None, 8, 8, 32)     0           conv2d_12[0][0]                  \n",
            "__________________________________________________________________________________________________\n",
            "conv2d_13 (Conv2D)              (None, 8, 8, 32)     2080        max_pooling2d_3[0][0]            \n",
            "__________________________________________________________________________________________________\n",
            "dropout_4 (Dropout)             (None, 8, 8, 32)     0           leaky_re_lu_7[0][0]              \n",
            "__________________________________________________________________________________________________\n",
            "dropout_5 (Dropout)             (None, 8, 8, 64)     0           leaky_re_lu_9[0][0]              \n",
            "__________________________________________________________________________________________________\n",
            "dropout_6 (Dropout)             (None, 8, 8, 32)     0           leaky_re_lu_11[0][0]             \n",
            "__________________________________________________________________________________________________\n",
            "leaky_re_lu_12 (LeakyReLU)      (None, 8, 8, 32)     0           conv2d_13[0][0]                  \n",
            "__________________________________________________________________________________________________\n",
            "concatenate_1 (Concatenate)     (None, 8, 8, 160)    0           dropout_4[0][0]                  \n",
            "                                                                 dropout_5[0][0]                  \n",
            "                                                                 dropout_6[0][0]                  \n",
            "                                                                 leaky_re_lu_12[0][0]             \n",
            "__________________________________________________________________________________________________\n",
            "conv2d_14 (Conv2D)              (None, 8, 8, 128)    184448      concatenate_1[0][0]              \n",
            "__________________________________________________________________________________________________\n",
            "batch_normalization_1 (BatchNor (None, 8, 8, 128)    512         conv2d_14[0][0]                  \n",
            "__________________________________________________________________________________________________\n",
            "leaky_re_lu_13 (LeakyReLU)      (None, 8, 8, 128)    0           batch_normalization_1[0][0]      \n",
            "__________________________________________________________________________________________________\n",
            "dropout_7 (Dropout)             (None, 8, 8, 128)    0           leaky_re_lu_13[0][0]             \n",
            "__________________________________________________________________________________________________\n",
            "flatten (Flatten)               (None, 8192)         0           dropout_7[0][0]                  \n",
            "__________________________________________________________________________________________________\n",
            "dense (Dense)                   (None, 10)           81930       flatten[0][0]                    \n",
            "==================================================================================================\n",
            "Total params: 461,066\n",
            "Trainable params: 460,682\n",
            "Non-trainable params: 384\n",
            "__________________________________________________________________________________________________\n",
            "Epoch 1/100\n",
            "   2/1250 [..............................] - ETA: 1:41 - loss: 2.6998 - accuracy: 0.1562WARNING:tensorflow:Callbacks method `on_train_batch_end` is slow compared to the batch time (batch time: 0.0157s vs `on_train_batch_end` time: 0.1475s). Check your callbacks.\n",
            "1250/1250 [==============================] - 12s 10ms/step - loss: 1.8093 - accuracy: 0.3794 - val_loss: 2.2509 - val_accuracy: 0.4266\n",
            "Epoch 2/100\n",
            "1250/1250 [==============================] - 12s 9ms/step - loss: 1.4329 - accuracy: 0.5094 - val_loss: 1.3803 - val_accuracy: 0.5481\n",
            "Epoch 3/100\n",
            "1250/1250 [==============================] - 12s 9ms/step - loss: 1.1536 - accuracy: 0.6090 - val_loss: 1.4343 - val_accuracy: 0.5557\n",
            "Epoch 4/100\n",
            "1250/1250 [==============================] - 12s 9ms/step - loss: 0.9677 - accuracy: 0.6688 - val_loss: 0.9769 - val_accuracy: 0.6707\n",
            "Epoch 5/100\n",
            "1250/1250 [==============================] - 11s 9ms/step - loss: 0.8269 - accuracy: 0.7158 - val_loss: 1.0204 - val_accuracy: 0.6688\n",
            "Epoch 6/100\n",
            "1250/1250 [==============================] - 12s 9ms/step - loss: 0.7414 - accuracy: 0.7435 - val_loss: 0.9312 - val_accuracy: 0.7065\n",
            "Epoch 7/100\n",
            "1250/1250 [==============================] - 12s 10ms/step - loss: 0.6740 - accuracy: 0.7634 - val_loss: 0.7432 - val_accuracy: 0.7466\n",
            "Epoch 8/100\n",
            "1250/1250 [==============================] - 12s 10ms/step - loss: 0.6145 - accuracy: 0.7855 - val_loss: 0.7423 - val_accuracy: 0.7545\n",
            "Epoch 9/100\n",
            "1250/1250 [==============================] - 12s 10ms/step - loss: 0.5718 - accuracy: 0.7988 - val_loss: 0.7845 - val_accuracy: 0.7430\n",
            "Epoch 10/100\n",
            "1250/1250 [==============================] - 12s 10ms/step - loss: 0.5308 - accuracy: 0.8146 - val_loss: 0.6703 - val_accuracy: 0.7812\n",
            "Epoch 11/100\n",
            "1250/1250 [==============================] - 12s 10ms/step - loss: 0.5042 - accuracy: 0.8244 - val_loss: 0.7055 - val_accuracy: 0.7660\n",
            "Epoch 12/100\n",
            "1250/1250 [==============================] - 12s 9ms/step - loss: 0.4673 - accuracy: 0.8365 - val_loss: 0.6554 - val_accuracy: 0.7851\n",
            "Epoch 13/100\n",
            "1250/1250 [==============================] - 12s 9ms/step - loss: 0.4394 - accuracy: 0.8450 - val_loss: 0.7075 - val_accuracy: 0.7713\n",
            "Epoch 14/100\n",
            "1250/1250 [==============================] - 12s 9ms/step - loss: 0.4155 - accuracy: 0.8537 - val_loss: 0.6728 - val_accuracy: 0.7856\n",
            "Epoch 15/100\n",
            "1250/1250 [==============================] - 11s 9ms/step - loss: 0.3937 - accuracy: 0.8601 - val_loss: 0.6853 - val_accuracy: 0.7882\n",
            "Epoch 16/100\n",
            "1250/1250 [==============================] - 12s 9ms/step - loss: 0.3768 - accuracy: 0.8656 - val_loss: 0.6954 - val_accuracy: 0.7835\n",
            "Epoch 17/100\n",
            "1250/1250 [==============================] - 12s 10ms/step - loss: 0.3610 - accuracy: 0.8724 - val_loss: 0.6170 - val_accuracy: 0.8042\n",
            "Epoch 18/100\n",
            "1250/1250 [==============================] - 12s 9ms/step - loss: 0.3384 - accuracy: 0.8788 - val_loss: 0.7518 - val_accuracy: 0.7790\n",
            "Epoch 19/100\n",
            "1250/1250 [==============================] - 12s 9ms/step - loss: 0.3253 - accuracy: 0.8850 - val_loss: 0.6546 - val_accuracy: 0.7980\n",
            "Epoch 20/100\n",
            "1250/1250 [==============================] - 12s 9ms/step - loss: 0.3031 - accuracy: 0.8928 - val_loss: 0.6702 - val_accuracy: 0.8063\n",
            "Epoch 21/100\n",
            "1250/1250 [==============================] - 12s 9ms/step - loss: 0.2917 - accuracy: 0.8967 - val_loss: 0.8750 - val_accuracy: 0.7525\n",
            "Epoch 22/100\n",
            "1250/1250 [==============================] - 12s 10ms/step - loss: 0.2830 - accuracy: 0.8989 - val_loss: 0.6377 - val_accuracy: 0.8167\n",
            "Epoch 23/100\n",
            "1250/1250 [==============================] - 12s 10ms/step - loss: 0.2722 - accuracy: 0.9026 - val_loss: 0.7967 - val_accuracy: 0.7851\n",
            "Epoch 24/100\n",
            "1250/1250 [==============================] - 12s 10ms/step - loss: 0.2577 - accuracy: 0.9087 - val_loss: 0.7405 - val_accuracy: 0.7899\n",
            "Epoch 25/100\n",
            "1250/1250 [==============================] - 12s 10ms/step - loss: 0.2463 - accuracy: 0.9117 - val_loss: 0.6616 - val_accuracy: 0.8022\n",
            "Epoch 26/100\n",
            "1250/1250 [==============================] - 12s 10ms/step - loss: 0.2385 - accuracy: 0.9143 - val_loss: 0.8736 - val_accuracy: 0.7696\n",
            "Epoch 27/100\n",
            "1250/1250 [==============================] - 12s 9ms/step - loss: 0.2399 - accuracy: 0.9148 - val_loss: 0.6496 - val_accuracy: 0.8191\n",
            "313/313 [==============================] - 1s 4ms/step - loss: 0.6224 - accuracy: 0.8008\n"
          ],
          "name": "stdout"
        },
        {
          "output_type": "execute_result",
          "data": {
            "text/plain": [
              "[0.6223564743995667, 0.8008000254631042]"
            ]
          },
          "metadata": {
            "tags": []
          },
          "execution_count": 25
        }
      ]
    },
    {
      "cell_type": "code",
      "metadata": {
        "id": "5_I1T01tf_Fl",
        "colab_type": "code",
        "colab": {
          "base_uri": "https://localhost:8080/",
          "height": 1000
        },
        "outputId": "755e6f0d-c86a-457c-e13b-1cf17ccc9bc5"
      },
      "source": [
        "keras.backend.clear_session()\n",
        "tf.random.set_seed(42)\n",
        "\n",
        "model = Sequential([\n",
        "        # Input Layer\n",
        "        Conv2D(32,kernel_size=3,padding='same',input_shape=X_train.shape[1:]),\n",
        "        keras.layers.LeakyReLU(),\n",
        "        keras.layers.MaxPool2D(2),\n",
        "        Conv2D(64,kernel_size=3,padding='same'),\n",
        "        keras.layers.LeakyReLU(),\n",
        "        Conv2D(64,kernel_size=3,padding='same'),\n",
        "        keras.layers.LeakyReLU(),\n",
        "        keras.layers.MaxPool2D(2),\n",
        "        Conv2D(128,kernel_size=3,padding='same'),\n",
        "        BatchNormalization(),\n",
        "        keras.layers.LeakyReLU(),\n",
        "        Conv2D(128,kernel_size=3,padding='same'),\n",
        "        BatchNormalization(),\n",
        "        keras.layers.LeakyReLU(),\n",
        "        Dropout(0.3),\n",
        "        Flatten(),\n",
        "        # First Hidden Layer\n",
        "        Dense(128),\n",
        "        BatchNormalization(),\n",
        "        keras.layers.LeakyReLU(),\n",
        "        Dropout(0.5),\n",
        "        # Output Layer\n",
        "        Dense(10,activation='softmax')\n",
        "])\n",
        "\n",
        "model.summary()\n",
        "\n",
        "optimizers = Nadam()\n",
        "\n",
        "model.compile(optimizer=optimizers,loss='sparse_categorical_crossentropy',metrics=['accuracy'])\n",
        "\n",
        "history = model.fit(X_train,y_train,batch_size=32,epochs=100,validation_split=0.2,callbacks=callbacks)\n",
        "\n",
        "model.evaluate(X_test,y_test)"
      ],
      "execution_count": null,
      "outputs": [
        {
          "output_type": "stream",
          "text": [
            "Model: \"sequential\"\n",
            "_________________________________________________________________\n",
            "Layer (type)                 Output Shape              Param #   \n",
            "=================================================================\n",
            "conv2d (Conv2D)              (None, 32, 32, 32)        896       \n",
            "_________________________________________________________________\n",
            "leaky_re_lu (LeakyReLU)      (None, 32, 32, 32)        0         \n",
            "_________________________________________________________________\n",
            "max_pooling2d (MaxPooling2D) (None, 16, 16, 32)        0         \n",
            "_________________________________________________________________\n",
            "conv2d_1 (Conv2D)            (None, 16, 16, 64)        18496     \n",
            "_________________________________________________________________\n",
            "leaky_re_lu_1 (LeakyReLU)    (None, 16, 16, 64)        0         \n",
            "_________________________________________________________________\n",
            "conv2d_2 (Conv2D)            (None, 16, 16, 64)        36928     \n",
            "_________________________________________________________________\n",
            "leaky_re_lu_2 (LeakyReLU)    (None, 16, 16, 64)        0         \n",
            "_________________________________________________________________\n",
            "max_pooling2d_1 (MaxPooling2 (None, 8, 8, 64)          0         \n",
            "_________________________________________________________________\n",
            "conv2d_3 (Conv2D)            (None, 8, 8, 128)         73856     \n",
            "_________________________________________________________________\n",
            "batch_normalization (BatchNo (None, 8, 8, 128)         512       \n",
            "_________________________________________________________________\n",
            "leaky_re_lu_3 (LeakyReLU)    (None, 8, 8, 128)         0         \n",
            "_________________________________________________________________\n",
            "conv2d_4 (Conv2D)            (None, 8, 8, 128)         147584    \n",
            "_________________________________________________________________\n",
            "batch_normalization_1 (Batch (None, 8, 8, 128)         512       \n",
            "_________________________________________________________________\n",
            "leaky_re_lu_4 (LeakyReLU)    (None, 8, 8, 128)         0         \n",
            "_________________________________________________________________\n",
            "dropout (Dropout)            (None, 8, 8, 128)         0         \n",
            "_________________________________________________________________\n",
            "flatten (Flatten)            (None, 8192)              0         \n",
            "_________________________________________________________________\n",
            "dense (Dense)                (None, 128)               1048704   \n",
            "_________________________________________________________________\n",
            "batch_normalization_2 (Batch (None, 128)               512       \n",
            "_________________________________________________________________\n",
            "leaky_re_lu_5 (LeakyReLU)    (None, 128)               0         \n",
            "_________________________________________________________________\n",
            "dropout_1 (Dropout)          (None, 128)               0         \n",
            "_________________________________________________________________\n",
            "dense_1 (Dense)              (None, 10)                1290      \n",
            "=================================================================\n",
            "Total params: 1,329,290\n",
            "Trainable params: 1,328,522\n",
            "Non-trainable params: 768\n",
            "_________________________________________________________________\n",
            "Epoch 1/100\n",
            "   2/1250 [..............................] - ETA: 2:08 - loss: 3.3824 - accuracy: 0.0469  WARNING:tensorflow:Callbacks method `on_train_batch_end` is slow compared to the batch time (batch time: 0.0151s vs `on_train_batch_end` time: 0.1901s). Check your callbacks.\n",
            "1250/1250 [==============================] - 11s 8ms/step - loss: 1.4306 - accuracy: 0.4996 - val_loss: 1.1014 - val_accuracy: 0.6090\n",
            "Epoch 2/100\n",
            "1250/1250 [==============================] - 10s 8ms/step - loss: 1.0170 - accuracy: 0.6439 - val_loss: 1.3200 - val_accuracy: 0.5618\n",
            "Epoch 3/100\n",
            "1250/1250 [==============================] - 10s 8ms/step - loss: 0.8978 - accuracy: 0.6891 - val_loss: 0.9062 - val_accuracy: 0.6899\n",
            "Epoch 4/100\n",
            "1250/1250 [==============================] - 10s 8ms/step - loss: 0.8180 - accuracy: 0.7158 - val_loss: 0.9951 - val_accuracy: 0.6564\n",
            "Epoch 5/100\n",
            "1250/1250 [==============================] - 10s 8ms/step - loss: 0.7537 - accuracy: 0.7385 - val_loss: 0.7729 - val_accuracy: 0.7351\n",
            "Epoch 6/100\n",
            "1250/1250 [==============================] - 10s 8ms/step - loss: 0.7008 - accuracy: 0.7585 - val_loss: 0.9903 - val_accuracy: 0.6676\n",
            "Epoch 7/100\n",
            "1250/1250 [==============================] - 10s 8ms/step - loss: 0.6616 - accuracy: 0.7715 - val_loss: 0.7785 - val_accuracy: 0.7354\n",
            "Epoch 8/100\n",
            "1250/1250 [==============================] - 10s 8ms/step - loss: 0.6152 - accuracy: 0.7864 - val_loss: 0.6490 - val_accuracy: 0.7777\n",
            "Epoch 9/100\n",
            "1250/1250 [==============================] - 10s 8ms/step - loss: 0.5781 - accuracy: 0.7997 - val_loss: 0.6699 - val_accuracy: 0.7758\n",
            "Epoch 10/100\n",
            "1250/1250 [==============================] - 10s 8ms/step - loss: 0.5474 - accuracy: 0.8115 - val_loss: 0.6768 - val_accuracy: 0.7801\n",
            "Epoch 11/100\n",
            "1250/1250 [==============================] - 10s 8ms/step - loss: 0.5193 - accuracy: 0.8192 - val_loss: 0.6816 - val_accuracy: 0.7730\n",
            "Epoch 12/100\n",
            "1250/1250 [==============================] - 10s 8ms/step - loss: 0.4936 - accuracy: 0.8286 - val_loss: 0.6894 - val_accuracy: 0.7695\n",
            "Epoch 13/100\n",
            "1250/1250 [==============================] - 10s 8ms/step - loss: 0.4627 - accuracy: 0.8387 - val_loss: 0.6490 - val_accuracy: 0.7888\n",
            "Epoch 14/100\n",
            "1250/1250 [==============================] - 10s 8ms/step - loss: 0.4420 - accuracy: 0.8467 - val_loss: 0.7583 - val_accuracy: 0.7524\n",
            "Epoch 15/100\n",
            "1250/1250 [==============================] - 10s 8ms/step - loss: 0.4256 - accuracy: 0.8524 - val_loss: 0.6466 - val_accuracy: 0.7920\n",
            "Epoch 16/100\n",
            "1250/1250 [==============================] - 10s 8ms/step - loss: 0.3987 - accuracy: 0.8615 - val_loss: 0.6491 - val_accuracy: 0.7948\n",
            "Epoch 17/100\n",
            "1250/1250 [==============================] - 10s 8ms/step - loss: 0.3847 - accuracy: 0.8651 - val_loss: 0.6528 - val_accuracy: 0.7956\n",
            "Epoch 18/100\n",
            "1250/1250 [==============================] - 10s 8ms/step - loss: 0.3607 - accuracy: 0.8717 - val_loss: 0.6668 - val_accuracy: 0.7887\n",
            "Epoch 19/100\n",
            "1250/1250 [==============================] - 10s 8ms/step - loss: 0.3398 - accuracy: 0.8798 - val_loss: 0.6722 - val_accuracy: 0.7931\n",
            "Epoch 20/100\n",
            "1250/1250 [==============================] - 10s 8ms/step - loss: 0.3268 - accuracy: 0.8855 - val_loss: 0.7882 - val_accuracy: 0.7727\n",
            "Epoch 21/100\n",
            "1250/1250 [==============================] - 10s 8ms/step - loss: 0.3112 - accuracy: 0.8922 - val_loss: 0.7677 - val_accuracy: 0.7752\n",
            "Epoch 22/100\n",
            "1250/1250 [==============================] - 10s 8ms/step - loss: 0.2942 - accuracy: 0.8953 - val_loss: 0.7135 - val_accuracy: 0.7897\n",
            "Epoch 23/100\n",
            "1250/1250 [==============================] - 10s 8ms/step - loss: 0.2835 - accuracy: 0.9000 - val_loss: 0.6607 - val_accuracy: 0.8063\n",
            "Epoch 24/100\n",
            "1250/1250 [==============================] - 10s 8ms/step - loss: 0.2667 - accuracy: 0.9069 - val_loss: 0.6970 - val_accuracy: 0.8023\n",
            "Epoch 25/100\n",
            "1250/1250 [==============================] - 10s 8ms/step - loss: 0.2663 - accuracy: 0.9072 - val_loss: 0.6767 - val_accuracy: 0.8045\n",
            "313/313 [==============================] - 1s 3ms/step - loss: 0.6675 - accuracy: 0.7867\n"
          ],
          "name": "stdout"
        },
        {
          "output_type": "execute_result",
          "data": {
            "text/plain": [
              "[0.6675499081611633, 0.7867000102996826]"
            ]
          },
          "metadata": {
            "tags": []
          },
          "execution_count": 71
        }
      ]
    },
    {
      "cell_type": "code",
      "metadata": {
        "id": "8vYEktgmygnN",
        "colab_type": "code",
        "colab": {}
      },
      "source": [
        ""
      ],
      "execution_count": null,
      "outputs": []
    }
  ]
}